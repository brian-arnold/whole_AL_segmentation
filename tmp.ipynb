{
 "cells": [
  {
   "cell_type": "code",
   "execution_count": null,
   "metadata": {},
   "outputs": [],
   "source": []
  },
  {
   "cell_type": "code",
   "execution_count": 16,
   "metadata": {},
   "outputs": [],
   "source": [
    "results_dir = 'results_tmp'\n",
    "import importlib\n",
    "import matplotlib.pyplot as plt\n",
    "import seaborn as sns\n",
    "import os\n",
    "os.makedirs(results_dir, exist_ok=True)"
   ]
  },
  {
   "cell_type": "code",
   "execution_count": 2,
   "metadata": {},
   "outputs": [
    {
     "name": "stderr",
     "output_type": "stream",
     "text": [
      "2024-07-02 11:21:38.614992: E external/local_xla/xla/stream_executor/cuda/cuda_dnn.cc:9261] Unable to register cuDNN factory: Attempting to register factory for plugin cuDNN when one has already been registered\n",
      "2024-07-02 11:21:38.615044: E external/local_xla/xla/stream_executor/cuda/cuda_fft.cc:607] Unable to register cuFFT factory: Attempting to register factory for plugin cuFFT when one has already been registered\n",
      "2024-07-02 11:21:38.616305: E external/local_xla/xla/stream_executor/cuda/cuda_blas.cc:1515] Unable to register cuBLAS factory: Attempting to register factory for plugin cuBLAS when one has already been registered\n"
     ]
    }
   ],
   "source": [
    "from experiment_info import samples, data_dir, puffs, params\n",
    "\n",
    "import tmp_activity_traces as activity_traces\n",
    "import tmp_video_IO as video_IO\n",
    "import tmp_binary_mask as binary_mask"
   ]
  },
  {
   "cell_type": "code",
   "execution_count": 3,
   "metadata": {},
   "outputs": [
    {
     "name": "stdout",
     "output_type": "stream",
     "text": [
      "data directory: /mnt/cup/labs/mcbride/bjarnold/new_analysis/data/Mar_22_2024/1_RegisteredBrains\n",
      "Number of samples: 15\n",
      "Number of odors: 72\n",
      "x,y,z dimensions: 128 128 24\n",
      "Number of frames to analyze: 112\n",
      "Number of initial frames for df/f normalization: 20\n"
     ]
    }
   ],
   "source": [
    "# import custom functions\n",
    "import functions as fn\n",
    "\n",
    "print(f'data directory: {data_dir}')\n",
    "print(f'Number of samples: {len(samples)}')\n",
    "num_odors = len(puffs)\n",
    "\n",
    "print(f'Number of odors: {num_odors}')\n",
    "print(f'x,y,z dimensions:', params['x_dim'], params['y_dim'], params['z_dim'])\n",
    "print(f'Number of frames to analyze:', params['n_frames_to_analyze'])\n",
    "print(f'Number of initial frames for df/f normalization:', params['background_frames'])"
   ]
  },
  {
   "cell_type": "code",
   "execution_count": 4,
   "metadata": {},
   "outputs": [],
   "source": [
    "\n",
    "import glob\n",
    "import pandas as pd\n",
    "from collections import defaultdict\n",
    "import pickle"
   ]
  },
  {
   "cell_type": "code",
   "execution_count": 5,
   "metadata": {},
   "outputs": [],
   "source": [
    "class Brain:\n",
    "\n",
    "    # This class stores data; methods have been put in modules for re-usability\n",
    "    #\n",
    "    # name: name of the sample\n",
    "    # vid_fnames: the file paths of all the individual videos\n",
    "    # video: the full video, a concatenation of all individual videos\n",
    "    # binary_mask: 3D outline of the antennal lobe, region in video of higher pixel intensities according to otsu thresholding\n",
    "    # binary_mask_frac: the fraction of pixels contained within binary_mask, compared to the entire 3d volume\n",
    "    # mean_activity: the mean pixel intensity wtihin binary mask, over time; this is df_f if videos have been normalized against background activity\n",
    "    # mean_activity_paraffin_subtracted: same as mean_activity except the signal of the paraffin odor has been subtracted\n",
    "    # maxs_per_odor: a dictionary where keys are names of odors, values are lists of size 2, one for each trial in which the odor was administered\n",
    "    # aucs_per_odor: same as maxs_per_odor, except calculating the area under the curve\n",
    "\n",
    "    def __init__(self, name, vid_fnames):\n",
    "        self.name = name\n",
    "        self.vid_fnames = vid_fnames\n",
    "\n",
    "    def __repr__(self):\n",
    "        # return f\"Brain for {self.name} containing {len(self.vid_fnames)} videos\"\n",
    "        # Generate a comma-separated string of attribute names\n",
    "        attribute_keys = ', '.join(self.__dict__.keys())\n",
    "        return f\"{self.__class__.__name__}({attribute_keys})\""
   ]
  },
  {
   "cell_type": "code",
   "execution_count": 6,
   "metadata": {},
   "outputs": [],
   "source": [
    "# the brains list will store instances of the Brain class that will keep track of data and preprocessing methods\n",
    "brains = []\n",
    "\n",
    "for samp in samples:\n",
    "    v = glob.glob(f\"{data_dir}/{samp}/*.registered.tif\")\n",
    "    v = sorted(v)\n",
    "    num_vids = len(v)\n",
    "    assert num_vids == len(puffs), f\"I found {num_vids} videos for sample {samp}, but there are {len(puffs)} odors. The number of videos and odors should be equivalent.\"\n",
    "    \n",
    "    brain = Brain(samp, v)\n",
    "    brains.append(brain)\n"
   ]
  },
  {
   "cell_type": "code",
   "execution_count": 7,
   "metadata": {},
   "outputs": [],
   "source": [
    "importlib.reload(video_IO)\n",
    "\n",
    "for i,b in enumerate(brains):\n",
    "    if i != 0:\n",
    "        continue\n",
    "    # using filenames of videos, load them into movie objects, creating video instance attribute\n",
    "    b.video = video_IO.load_videos(b.vid_fnames, params, normalize=False)"
   ]
  },
  {
   "cell_type": "code",
   "execution_count": 8,
   "metadata": {},
   "outputs": [
    {
     "name": "stdout",
     "output_type": "stream",
     "text": [
      "(393216,) (8064, 393216)\n"
     ]
    }
   ],
   "source": [
    "for i,b in enumerate(brains):\n",
    "    if i != 0:\n",
    "        continue\n",
    "    # use otsu thresholding to find binary mask, specify a results dir to save the binary mask object and plot\n",
    "    b.binary_mask, b.binary_mask_frac = binary_mask.find_binary_mask(b.video, params)\n",
    "    binary_mask.save_and_plot_binary_mask(b.name, b.binary_mask, params, results_dir)\n",
    "\n",
    "    # use the binary mask to compute mean activity over time\n",
    "    # except here we will re-load the videos, overwriting self.video, and normalize them against the first params['n_frames_to_analyze']\n",
    "    b.video = video_IO.load_videos(b.vid_fnames, params, normalize=True)\n",
    "    \n",
    "    b.mean_activity = binary_mask.mean_activity_within_binary_mask(b.video, b.binary_mask, params)\n",
    "    # b.subtract_paraffin(puffs, params)\n",
    "\n",
    "\n",
    "    "
   ]
  },
  {
   "cell_type": "code",
   "execution_count": 9,
   "metadata": {},
   "outputs": [],
   "source": [
    "importlib.reload(activity_traces)\n",
    "\n",
    "for i,b in enumerate(brains):\n",
    "    if i != 0:\n",
    "        continue\n",
    "    b.maxs_per_odor, b.argmaxs_per_odor = activity_traces.max_activity_per_odor(b.mean_activity, puffs, params)\n",
    "    b.aucs_per_odor = activity_traces.activity_auc_per_odor(b.mean_activity, puffs, params)\n",
    "    \n",
    "    b.mean_activity_paraffin_subtracted = activity_traces.subtract_paraffin_response(b.mean_activity, puffs, params)\n"
   ]
  },
  {
   "cell_type": "code",
   "execution_count": 10,
   "metadata": {},
   "outputs": [],
   "source": [
    "# for i,b in enumerate(brains):\n",
    "#     if i != 0:\n",
    "#         continue\n",
    "#     b.compute_max_responses(puffs, params)\n",
    "#     b.compute_AUC(puffs, params)"
   ]
  },
  {
   "cell_type": "markdown",
   "metadata": {},
   "source": [
    "## save the mean trace activity as csv file"
   ]
  },
  {
   "cell_type": "code",
   "execution_count": 11,
   "metadata": {},
   "outputs": [],
   "source": [
    "mean_activity = {b.name : b.mean_activity for i,b in enumerate(brains) if i == 0}\n",
    "mean_activity_df = pd.DataFrame.from_dict(mean_activity)\n",
    "mean_activity_df.to_csv(f'{results_dir}/mean_activity_within_mask.csv', index=False)"
   ]
  },
  {
   "cell_type": "markdown",
   "metadata": {},
   "source": [
    "## save maxs per odor as dataFrame"
   ]
  },
  {
   "cell_type": "code",
   "execution_count": 12,
   "metadata": {},
   "outputs": [
    {
     "data": {
      "text/html": [
       "<div>\n",
       "<style scoped>\n",
       "    .dataframe tbody tr th:only-of-type {\n",
       "        vertical-align: middle;\n",
       "    }\n",
       "\n",
       "    .dataframe tbody tr th {\n",
       "        vertical-align: top;\n",
       "    }\n",
       "\n",
       "    .dataframe thead th {\n",
       "        text-align: right;\n",
       "    }\n",
       "</style>\n",
       "<table border=\"1\" class=\"dataframe\">\n",
       "  <thead>\n",
       "    <tr style=\"text-align: right;\">\n",
       "      <th></th>\n",
       "      <th>samp</th>\n",
       "      <th>subpop</th>\n",
       "      <th>trial</th>\n",
       "      <th>odor</th>\n",
       "      <th>value</th>\n",
       "      <th>odor_order</th>\n",
       "    </tr>\n",
       "  </thead>\n",
       "  <tbody>\n",
       "    <tr>\n",
       "      <th>0</th>\n",
       "      <td>230913_ORL_GCaMP6f_F1</td>\n",
       "      <td>ORL</td>\n",
       "      <td>1</td>\n",
       "      <td>hexanal4.375</td>\n",
       "      <td>0.000476</td>\n",
       "      <td>0</td>\n",
       "    </tr>\n",
       "    <tr>\n",
       "      <th>1</th>\n",
       "      <td>230913_ORL_GCaMP6f_F1</td>\n",
       "      <td>ORL</td>\n",
       "      <td>2</td>\n",
       "      <td>hexanal4.375</td>\n",
       "      <td>0.000475</td>\n",
       "      <td>0</td>\n",
       "    </tr>\n",
       "    <tr>\n",
       "      <th>2</th>\n",
       "      <td>230913_ORL_GCaMP6f_F1</td>\n",
       "      <td>ORL</td>\n",
       "      <td>1</td>\n",
       "      <td>hexanal4.03</td>\n",
       "      <td>0.001123</td>\n",
       "      <td>1</td>\n",
       "    </tr>\n",
       "    <tr>\n",
       "      <th>3</th>\n",
       "      <td>230913_ORL_GCaMP6f_F1</td>\n",
       "      <td>ORL</td>\n",
       "      <td>2</td>\n",
       "      <td>hexanal4.03</td>\n",
       "      <td>0.000477</td>\n",
       "      <td>1</td>\n",
       "    </tr>\n",
       "    <tr>\n",
       "      <th>4</th>\n",
       "      <td>230913_ORL_GCaMP6f_F1</td>\n",
       "      <td>ORL</td>\n",
       "      <td>1</td>\n",
       "      <td>hexanal2.825</td>\n",
       "      <td>0.001073</td>\n",
       "      <td>2</td>\n",
       "    </tr>\n",
       "    <tr>\n",
       "      <th>...</th>\n",
       "      <td>...</td>\n",
       "      <td>...</td>\n",
       "      <td>...</td>\n",
       "      <td>...</td>\n",
       "      <td>...</td>\n",
       "      <td>...</td>\n",
       "    </tr>\n",
       "    <tr>\n",
       "      <th>67</th>\n",
       "      <td>230913_ORL_GCaMP6f_F1</td>\n",
       "      <td>ORL</td>\n",
       "      <td>2</td>\n",
       "      <td>hexanoic acid</td>\n",
       "      <td>0.001025</td>\n",
       "      <td>33</td>\n",
       "    </tr>\n",
       "    <tr>\n",
       "      <th>68</th>\n",
       "      <td>230913_ORL_GCaMP6f_F1</td>\n",
       "      <td>ORL</td>\n",
       "      <td>1</td>\n",
       "      <td>camphor</td>\n",
       "      <td>0.009764</td>\n",
       "      <td>34</td>\n",
       "    </tr>\n",
       "    <tr>\n",
       "      <th>69</th>\n",
       "      <td>230913_ORL_GCaMP6f_F1</td>\n",
       "      <td>ORL</td>\n",
       "      <td>2</td>\n",
       "      <td>camphor</td>\n",
       "      <td>0.006896</td>\n",
       "      <td>34</td>\n",
       "    </tr>\n",
       "    <tr>\n",
       "      <th>70</th>\n",
       "      <td>230913_ORL_GCaMP6f_F1</td>\n",
       "      <td>ORL</td>\n",
       "      <td>1</td>\n",
       "      <td>1-octen-3-ol</td>\n",
       "      <td>0.000644</td>\n",
       "      <td>35</td>\n",
       "    </tr>\n",
       "    <tr>\n",
       "      <th>71</th>\n",
       "      <td>230913_ORL_GCaMP6f_F1</td>\n",
       "      <td>ORL</td>\n",
       "      <td>2</td>\n",
       "      <td>1-octen-3-ol</td>\n",
       "      <td>0.001049</td>\n",
       "      <td>35</td>\n",
       "    </tr>\n",
       "  </tbody>\n",
       "</table>\n",
       "<p>72 rows × 6 columns</p>\n",
       "</div>"
      ],
      "text/plain": [
       "                     samp subpop  trial           odor     value  odor_order\n",
       "0   230913_ORL_GCaMP6f_F1    ORL      1   hexanal4.375  0.000476           0\n",
       "1   230913_ORL_GCaMP6f_F1    ORL      2   hexanal4.375  0.000475           0\n",
       "2   230913_ORL_GCaMP6f_F1    ORL      1    hexanal4.03  0.001123           1\n",
       "3   230913_ORL_GCaMP6f_F1    ORL      2    hexanal4.03  0.000477           1\n",
       "4   230913_ORL_GCaMP6f_F1    ORL      1   hexanal2.825  0.001073           2\n",
       "..                    ...    ...    ...            ...       ...         ...\n",
       "67  230913_ORL_GCaMP6f_F1    ORL      2  hexanoic acid  0.001025          33\n",
       "68  230913_ORL_GCaMP6f_F1    ORL      1        camphor  0.009764          34\n",
       "69  230913_ORL_GCaMP6f_F1    ORL      2        camphor  0.006896          34\n",
       "70  230913_ORL_GCaMP6f_F1    ORL      1   1-octen-3-ol  0.000644          35\n",
       "71  230913_ORL_GCaMP6f_F1    ORL      2   1-octen-3-ol  0.001049          35\n",
       "\n",
       "[72 rows x 6 columns]"
      ]
     },
     "execution_count": 12,
     "metadata": {},
     "output_type": "execute_result"
    }
   ],
   "source": [
    "def convert_to_df(brains, puffs, metric):\n",
    "    df_list = []\n",
    "    for i,b in enumerate(brains):\n",
    "        if i != 0:\n",
    "            continue\n",
    "        df_tmp = pd.DataFrame.from_dict(getattr(b, metric))\n",
    "        df_tmp['samp'] = b.name\n",
    "        df_tmp['subpop'] = b.name.split('_')[1]\n",
    "        df_tmp['trial'] = df_tmp.index+1\n",
    "        df_list.append(df_tmp)\n",
    "    df = pd.concat(df_list)\n",
    "    df = df.reset_index(drop=True)\n",
    "    df = pd.melt(df, id_vars=['samp', 'subpop', 'trial'], var_name='odor', value_name='value')\n",
    "\n",
    "    odor_order = {}\n",
    "    for puff in puffs:\n",
    "        if puff.trial == 1:\n",
    "            odor_order[puff.odor_name] = puff.number\n",
    "\n",
    "    df['odor_order'] = df['odor'].map(odor_order)\n",
    "    return df\n",
    "\n",
    "peak_max_df = convert_to_df(brains, puffs, 'maxs_per_odor')\n",
    "peak_auc_df = convert_to_df(brains, puffs, 'aucs_per_odor')\n",
    "peak_max_df\n"
   ]
  },
  {
   "cell_type": "code",
   "execution_count": 17,
   "metadata": {},
   "outputs": [],
   "source": [
    "def make_mean_activity_plot(brains, params, metric):\n",
    "\n",
    "    fig, axs = plt.subplots(1, 1, figsize=(16, 4))\n",
    "\n",
    "    for i,b in enumerate(brains):\n",
    "        if i != 0:\n",
    "            continue\n",
    "\n",
    "        activity = getattr(b, metric)\n",
    "        plt.plot(activity + i*0.02, c='black')  # Offset each trace by i*3\n",
    "        # print sample name on the right\n",
    "        plt.text(len(activity)*1.02, i*0.02, b.name, color='black')\n",
    "\n",
    "    # print the names of the odors on the x-axis\n",
    "    odor_names = []\n",
    "    positions = []\n",
    "    for i,puff in enumerate(puffs):\n",
    "        odor_names.append(puff.odor_name)\n",
    "        positions.append(i*params['n_frames_to_analyze'] + params['n_frames_to_analyze']/2)\n",
    "    plt.xticks(positions, odor_names, rotation=90)\n",
    "\n",
    "    # draw vertical lines to separate odors\n",
    "    for i in range(len(puffs)):\n",
    "        plt.axvline((i+1)*params['n_frames_to_analyze'], color=\"black\", linestyle=\"--\", alpha=0.1)\n",
    "\n",
    "    plt.yticks([])\n",
    "    # supress grid lines\n",
    "    plt.grid(False)\n",
    "    sns.despine()\n",
    "\n",
    "    plt.savefig(f'{results_dir}/{metric}.png', dpi=300)\n",
    "    plt.close()\n",
    "\n",
    "make_mean_activity_plot(brains, params, metric='mean_activity')\n",
    "make_mean_activity_plot(brains, params, metric='mean_activity_paraffin_subtracted')"
   ]
  }
 ],
 "metadata": {
  "kernelspec": {
   "display_name": "caiman",
   "language": "python",
   "name": "python3"
  },
  "language_info": {
   "codemirror_mode": {
    "name": "ipython",
    "version": 3
   },
   "file_extension": ".py",
   "mimetype": "text/x-python",
   "name": "python",
   "nbconvert_exporter": "python",
   "pygments_lexer": "ipython3",
   "version": "3.11.7"
  }
 },
 "nbformat": 4,
 "nbformat_minor": 2
}
